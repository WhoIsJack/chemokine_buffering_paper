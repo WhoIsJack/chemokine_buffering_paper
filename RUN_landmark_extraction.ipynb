{
 "cells": [
  {
   "cell_type": "markdown",
   "metadata": {},
   "source": [
    "## Landmark Extraction Pipeline"
   ]
  },
  {
   "cell_type": "markdown",
   "metadata": {},
   "source": [
    "Extract a point cloud-based representation of fluorescence intensity distributions from image stacks where the overall tissue has previously been masked using `RUN_preprocessing.ipynb`. Further to that, align the point clouds to the image frame and use the apical center point of the rosette (the lumen) as a reference point for registration, then normalize the z-axis to match the extent of the apico-basal axis across samples. Finally, compute the Euclidean distance of points in the point cloud to the lumen as an additional simplified measure.\n",
    "\n",
    "This pipeline can be run both on the raw intensities and on the membrane-subtracted intensities, with the latter generally giving more insight into cytoplasmic/vesicle localization since in the former the membrane can overshadow everything else.\n",
    "\n",
    "**Note:** For this to run the location of the apical center (the lumen position) of the neuromast has to be determined manually and its coordinates (in pixels) must be written in `<fpath>\\metadata.xlsx`, which then has to be exported as a *tab-separated text file* called `<fpath>\\metadata.txt`!"
   ]
  },
  {
   "cell_type": "markdown",
   "metadata": {},
   "source": [
    "### Preparations"
   ]
  },
  {
   "cell_type": "code",
   "execution_count": null,
   "metadata": {},
   "outputs": [],
   "source": [
    "# External imports\n",
    "from __future__ import division\n",
    "import os, sys\n",
    "import numpy as np\n",
    "import scipy.ndimage as ndi\n",
    "import matplotlib.pyplot as plt\n",
    "from tifffile import imread\n",
    "%matplotlib inline\n",
    "\n",
    "# Internal imports\n",
    "import quant.pointcloud as pcl"
   ]
  },
  {
   "cell_type": "markdown",
   "metadata": {},
   "source": [
    "### Single Run"
   ]
  },
  {
   "cell_type": "code",
   "execution_count": null,
   "metadata": {
    "scrolled": false
   },
   "outputs": [],
   "source": [
    "# Specify parameters\n",
    "fpath  = r'data_ex'\n",
    "fname  = r'example_stack_wt_8bit_masked.tif'\n",
    "res    = [0.22, 0.06, 0.06]\n",
    "\n",
    "# Load data\n",
    "stack = imread(os.path.join(fpath,fname))\n",
    "stack = np.rollaxis(stack,1)  # Roll channels to the front\n",
    "mem_stack = stack[0,...]\n",
    "cx7_stack = stack[1,...]\n",
    "\n",
    "# Run pipeline\n",
    "print \"Running with cxcr7b as channel and membranes as reference...\"\n",
    "lm_cx7, lm_cx7_tf, lum_dist_cx7 = pcl.point_cloud_pipeline(cx7_stack, mem_stack,\n",
    "                                                           fpath, fname, res, num_LMs=1000,\n",
    "                                                           verbose=True, show=True)\n",
    "print \"\\n\\nRunning with membranes as channel and also membranes as reference...\"\n",
    "lm_mem, lm_mem_tf, lum_dist_mem = pcl.point_cloud_pipeline(mem_stack, mem_stack,\n",
    "                                                           fpath, fname, res, num_LMs=1000,\n",
    "                                                           verbose=True, show=True)"
   ]
  },
  {
   "cell_type": "markdown",
   "metadata": {},
   "source": [
    "### Batch Run"
   ]
  },
  {
   "cell_type": "code",
   "execution_count": null,
   "metadata": {
    "scrolled": true
   },
   "outputs": [],
   "source": [
    "# Specify parameters\n",
    "fpath     = r'data_ex'\n",
    "fname_end = r'_masked.tif'\n",
    "res       = [0.22, 0.06, 0.06]\n",
    "c_names   = ['mem', 'cx7']\n",
    "\n",
    "# Get filenames\n",
    "fnames = [fname for fname in os.listdir(fpath) if fname.endswith(fname_end)]\n",
    "\n",
    "# Run pipeline and save results\n",
    "for fname in fnames:\n",
    "    \n",
    "    # Report\n",
    "    print \"## Starting run on\", fname\n",
    "    \n",
    "    # Import data\n",
    "    stack = imread(os.path.join(fpath,fname))\n",
    "    stack = np.rollaxis(stack,1)  # Roll channels to the front\n",
    "    \n",
    "    # Run pipeline\n",
    "    output_dict = {}\n",
    "    for c,n in zip(range(stack.shape[0]), c_names):\n",
    "        lms, lms_tf, lum_dist_lms = pcl.point_cloud_pipeline(stack[c,...], stack[0,...],\n",
    "                                                             fpath, fname, res, num_LMs=1000)\n",
    "        output_dict['lm_'+n]       = lms\n",
    "        output_dict['lm_'+n+'_tf'] = lms_tf\n",
    "        output_dict['lum_dist_'+n] = lum_dist_lms\n",
    "    \n",
    "    # Save results\n",
    "    np.savez(os.path.join(fpath, fname[:-4]+'_LMs'), **output_dict)\n",
    "\n",
    "# report\n",
    "print \"### ALL DONE! ###\""
   ]
  },
  {
   "cell_type": "markdown",
   "metadata": {},
   "source": [
    "### Batch Run for Membrane-Subtracted Data"
   ]
  },
  {
   "cell_type": "code",
   "execution_count": null,
   "metadata": {},
   "outputs": [],
   "source": [
    "# Specify parameters\n",
    "fpath     = r'data_ex'\n",
    "fname_end = r'_memsub.tif'\n",
    "res       = [0.22, 0.06, 0.06]\n",
    "c_names   = ['mem', 'cx7']\n",
    "\n",
    "# Get filenames\n",
    "fnames = [fname for fname in os.listdir(fpath) if fname.endswith(fname_end)]\n",
    "\n",
    "# Run pipeline and save results\n",
    "for fname in fnames:\n",
    "    \n",
    "    # Report\n",
    "    print \"## Starting run on\", fname\n",
    "    \n",
    "    # Import data\n",
    "    stack = imread(os.path.join(fpath,fname))\n",
    "    stack = np.rollaxis(stack,1)  # Roll channels to the front\n",
    "    \n",
    "    # Run pipeline\n",
    "    output_dict = {}\n",
    "    for c,n in zip(range(stack.shape[0]), c_names):\n",
    "        lms, lms_tf, lum_dist_lms = pcl.point_cloud_pipeline(stack[c,...], stack[0,...],\n",
    "                                                             fpath, fname, res, num_LMs=1000)\n",
    "        output_dict['lm_memsub_'+n]       = lms\n",
    "        output_dict['lm_memsub_'+n+'_tf'] = lms_tf\n",
    "        output_dict['memsub_lum_dist_'+n] = lum_dist_lms\n",
    "    \n",
    "    # Save results\n",
    "    np.savez(os.path.join(fpath, fname[:-4]+'_LMs'), **output_dict)\n",
    "\n",
    "# report\n",
    "print \"### ALL DONE! ###\""
   ]
  }
 ],
 "metadata": {
  "kernelspec": {
   "display_name": "Python 2",
   "language": "python",
   "name": "python2"
  },
  "language_info": {
   "codemirror_mode": {
    "name": "ipython",
    "version": 2
   },
   "file_extension": ".py",
   "mimetype": "text/x-python",
   "name": "python",
   "nbconvert_exporter": "python",
   "pygments_lexer": "ipython2",
   "version": "2.7.13"
  }
 },
 "nbformat": 4,
 "nbformat_minor": 2
}
