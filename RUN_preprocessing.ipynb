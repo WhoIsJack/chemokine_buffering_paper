{
 "cells": [
  {
   "cell_type": "markdown",
   "metadata": {},
   "source": [
    "## Preprocessing Pipeline"
   ]
  },
  {
   "cell_type": "markdown",
   "metadata": {},
   "source": [
    "Preprocessing of raw images before landmark extraction for analysis of cxcr7 distribution. \n",
    "\n",
    "This includes **masking** of the entire neuromast and **membrane subtraction** to remove the membrane-localized signal in the cxcr7 channel based on the Lyn channel. Note that the masking **assumes the top 50 pixels (`stack[:,:50,:]`) to be background** and calculates the threshold based on that.\n",
    "\n",
    "**Note:** 8-bit conversion is done before this, using the Fiji macro `8bit_macro.ijm`. A fixed conversion range is used that is kept the same across a given experiment. Minima are always 0 or 10000 (depending on airyscan settings), maxima are adjusted based on intensity range; the values are logged in `data\\metadata.xlsx`."
   ]
  },
  {
   "cell_type": "markdown",
   "metadata": {},
   "source": [
    "### Preparations"
   ]
  },
  {
   "cell_type": "code",
   "execution_count": null,
   "metadata": {},
   "outputs": [],
   "source": [
    "# External imports\n",
    "from __future__ import division\n",
    "import os, sys\n",
    "import numpy as np\n",
    "import scipy.ndimage as ndi\n",
    "import matplotlib.pyplot as plt\n",
    "from tifffile import imsave\n",
    "%matplotlib inline\n",
    "\n",
    "# Internal imports\n",
    "import quant.preprocessing as prep"
   ]
  },
  {
   "cell_type": "markdown",
   "metadata": {},
   "source": [
    "### Single Run for Testing"
   ]
  },
  {
   "cell_type": "markdown",
   "metadata": {},
   "source": [
    "#### Masking"
   ]
  },
  {
   "cell_type": "code",
   "execution_count": null,
   "metadata": {},
   "outputs": [],
   "source": [
    "# Specify input data\n",
    "fpath = r'data_ex'\n",
    "fname = r'example_stack_wt_8bit.tif'"
   ]
  },
  {
   "cell_type": "code",
   "execution_count": null,
   "metadata": {},
   "outputs": [],
   "source": [
    "# Load data\n",
    "stack = prep.load_data(fname, fpath)"
   ]
  },
  {
   "cell_type": "code",
   "execution_count": null,
   "metadata": {},
   "outputs": [],
   "source": [
    "# Quick check of histogram of background region (should be only low values)\n",
    "plt.figure(figsize=(4,2))\n",
    "plt.hist(stack[:,:50,:].flatten(), bins=256)\n",
    "plt.xlim([0,20])\n",
    "plt.show()"
   ]
  },
  {
   "cell_type": "code",
   "execution_count": null,
   "metadata": {
    "scrolled": false
   },
   "outputs": [],
   "source": [
    "# Create neuromast mask\n",
    "mask = prep.create_nm_mask(stack[0,...], show=True)"
   ]
  },
  {
   "cell_type": "code",
   "execution_count": null,
   "metadata": {},
   "outputs": [],
   "source": [
    "# Apply mask\n",
    "masked_stack = np.copy(stack)\n",
    "masked_stack[0,~mask] = 0\n",
    "masked_stack[1,~mask] = 0"
   ]
  },
  {
   "cell_type": "code",
   "execution_count": null,
   "metadata": {},
   "outputs": [],
   "source": [
    "# Save output\n",
    "imsave(os.path.join(fpath, fname[:-4]+'_masked.tif'), np.rollaxis(masked_stack,1), bigtiff=True)"
   ]
  },
  {
   "cell_type": "markdown",
   "metadata": {},
   "source": [
    "#### Membrane Subtraction"
   ]
  },
  {
   "cell_type": "code",
   "execution_count": null,
   "metadata": {},
   "outputs": [],
   "source": [
    "# Mean-normalize and subtract membrane channel from cxcr7 channel\n",
    "subtracted = prep.subtract_mem(masked_stack[1,...], masked_stack[0,...])"
   ]
  },
  {
   "cell_type": "code",
   "execution_count": null,
   "metadata": {},
   "outputs": [],
   "source": [
    "# Save output\n",
    "imsave(os.path.join(fpath, fname[:-4]+'_masked_memsub.tif'), subtracted, bigtiff=True)"
   ]
  },
  {
   "cell_type": "markdown",
   "metadata": {},
   "source": [
    "### Batch Run"
   ]
  },
  {
   "cell_type": "code",
   "execution_count": null,
   "metadata": {
    "scrolled": false
   },
   "outputs": [],
   "source": [
    "# Specify input parameters\n",
    "fname_end = r'_8bit.tif'\n",
    "fpath = r'data_ex'\n",
    "\n",
    "# Number of process to use\n",
    "processes = 10\n",
    "\n",
    "# Get filenames (ready for multiprocessing)\n",
    "fnames = [(fname, fpath) for fname in os.listdir(fpath) if fname.endswith(fname_end)]\n",
    "\n",
    "# Run multiprocessed\n",
    "prep.run_multiprocessed(fnames, processes)\n",
    "\n",
    "# Report\n",
    "print \"### ALL DONE! ###\""
   ]
  }
 ],
 "metadata": {
  "kernelspec": {
   "display_name": "Python 2",
   "language": "python",
   "name": "python2"
  },
  "language_info": {
   "codemirror_mode": {
    "name": "ipython",
    "version": 2
   },
   "file_extension": ".py",
   "mimetype": "text/x-python",
   "name": "python",
   "nbconvert_exporter": "python",
   "pygments_lexer": "ipython2",
   "version": "2.7.13"
  }
 },
 "nbformat": 4,
 "nbformat_minor": 2
}
