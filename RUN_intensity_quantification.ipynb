{
 "cells": [
  {
   "cell_type": "markdown",
   "metadata": {},
   "source": [
    "## Intensity Quantification Pipeline"
   ]
  },
  {
   "cell_type": "markdown",
   "metadata": {},
   "source": [
    "Perform various measurements of fluorescence intensity in different masked regions on image stacks where the overall tissue has previously been masked using `RUN_preprocessing.ipynb`.\n",
    "\n",
    "The following measures are calculated:        \n",
    "- `all`: Mean intensity within the entire tissue mask\n",
    "- `mem`: mean intensity in membrane regions *excluding* the lumen region\n",
    "- `cyt`: mean intensity in cytoplasmic regions *excluding* the lumen region\n",
    "- `lum`: mean intensity in the lumen region\n",
    "- `bas_all`: mean intensity at the basal side of the tissue\n",
    "- `bas_mem`: mean intensity in membrane regions at the basal side of the tissue\n",
    "- `bas_cyt`: mean intensity in cytoplasmic regions at the basal side of the tissue\n",
    "\n",
    "The output dictionary is structured like this:\n",
    "```python\n",
    "dict('measurement_name'+'_'+'channel_name' = float_result_value)\n",
    "```\n",
    "\n",
    "**Note:** For this to run the location of the apical center (the lumen position) of the neuromast has to be determined manually and its coordinates (in pixels) must be written in `<fpath>\\metadata.xlsx`, which then has to be exported as a *tab-separated text file* called `<fpath>\\metadata.txt`!"
   ]
  },
  {
   "cell_type": "markdown",
   "metadata": {},
   "source": [
    "### Preparations"
   ]
  },
  {
   "cell_type": "code",
   "execution_count": null,
   "metadata": {},
   "outputs": [],
   "source": [
    "# External imports\n",
    "from __future__ import division\n",
    "import os, sys\n",
    "import numpy as np\n",
    "import scipy.ndimage as ndi\n",
    "import matplotlib.pyplot as plt\n",
    "%matplotlib inline\n",
    "\n",
    "# Internal imports\n",
    "import quant.intensity as qi"
   ]
  },
  {
   "cell_type": "markdown",
   "metadata": {},
   "source": [
    "### Single Run"
   ]
  },
  {
   "cell_type": "code",
   "execution_count": null,
   "metadata": {
    "scrolled": false
   },
   "outputs": [],
   "source": [
    "# Specify input\n",
    "fpath  = r'data_ex'\n",
    "fname  = r'example_stack_wt_8bit_masked.tif'\n",
    "\n",
    "# Specify parameters\n",
    "resolution   = [0.22, 0.06, 0.06]  # Pixel resolution in [z, y, x]\n",
    "lumen_region = 5.0                 # Radius around lumen to be masked [in um]\n",
    "channels     = ['lyn', 'cx7']      # Names for each channel (will be used in output dictionary) [must start with lyn!]\n",
    "\n",
    "# Run pipeline\n",
    "int_dict = qi.intensity_analysis_pipeline(fpath, fname, channels, resolution, lumen_region,\n",
    "                                          save=False, verbose=True, show=True)\n",
    "\n",
    "# Report\n",
    "print \"Output:\"\n",
    "for key in int_dict.keys(): print key, ' ', int_dict[key]"
   ]
  },
  {
   "cell_type": "markdown",
   "metadata": {},
   "source": [
    "### Multiprocessed Run"
   ]
  },
  {
   "cell_type": "code",
   "execution_count": null,
   "metadata": {},
   "outputs": [],
   "source": [
    "# Specify input path\n",
    "dirpath   = r'data_ex'\n",
    "fname_end = r'_masked.tif'\n",
    "\n",
    "# Specify parameters\n",
    "res          = [0.22, 0.06, 0.06]\n",
    "lumen_region = 5.0\n",
    "channels     = ['lyn', 'cx7']  # Must start with 'lyn'!\n",
    "processes    = 5\n",
    "\n",
    "# Run multiprocessed p\n",
    "qi.run_multiprocessed(dirpath, fname_end, channels, res, lumen_region,\n",
    "                      processes, save=True, verbose=False, show=False)\n",
    "\n",
    "# Report\n",
    "print \"\\nALL DONE!\""
   ]
  }
 ],
 "metadata": {
  "kernelspec": {
   "display_name": "Python 2",
   "language": "python",
   "name": "python2"
  },
  "language_info": {
   "codemirror_mode": {
    "name": "ipython",
    "version": 2
   },
   "file_extension": ".py",
   "mimetype": "text/x-python",
   "name": "python",
   "nbconvert_exporter": "python",
   "pygments_lexer": "ipython2",
   "version": "2.7.13"
  }
 },
 "nbformat": 4,
 "nbformat_minor": 2
}
